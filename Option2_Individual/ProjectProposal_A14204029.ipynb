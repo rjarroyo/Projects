{
 "cells": [
  {
   "cell_type": "markdown",
   "metadata": {},
   "source": [
    "# COGS 108 - Project Proposal"
   ]
  },
  {
   "cell_type": "markdown",
   "metadata": {},
   "source": [
    "# Names & PID\n",
    "\n",
    "- Name: Ryan Arroyo\n",
    "- PID: A14204029"
   ]
  },
  {
   "cell_type": "markdown",
   "metadata": {},
   "source": [
    "# Research Question"
   ]
  },
  {
   "cell_type": "markdown",
   "metadata": {},
   "source": [
    "How strongly do restaurant health inspection scores correlate to socioeconomic status metrics of the zip codes that the restaurants are located in?"
   ]
  },
  {
   "cell_type": "markdown",
   "metadata": {},
   "source": [
    "## Background and Prior Work"
   ]
  },
  {
   "cell_type": "markdown",
   "metadata": {},
   "source": [
    "Previous work to address this question has been conducted. First, a 2017 study of “Sociodemographic Factors and Food Safety Violations in Chain and Nonchain Restaurants” explored the relationship between inspection frequency, neighborhood characteristics, and inspection outcomes. Notably, the study revealed an interesting correlation—a higher proportion of black residents in a restaurant’s neighborhood was associated with a reduction in mean “foodborne-illness risk factor” violations, but an increase in mean “good retail practice” violations. On a related note, Andy Chang’s article for towardsdatascience.com explored this topic in context of the ethics of training a machine-learning model. He observed that generation of word clouds correlating to a bad health inspection score based on a restaurant name dataset led to prevalent words such as “Mexican” or “Taqueria”. His article details the ethical implications of teaching a model that, for example, “taqueria” named restaurants tend to score lower than “pizza” restaurants. \n",
    "\n",
    "References (include links):\n",
    "https://www.ncbi.nlm.nih.gov/pmc/articles/PMC5349477/ - 1)\n",
    "https://towardsdatascience.com/teaching-a-xenophobic-ai-health-inspector-and-the-ethics-of-machine-learning-b644d72376f - 2)"
   ]
  },
  {
   "cell_type": "markdown",
   "metadata": {},
   "source": [
    "# Hypothesis\n"
   ]
  },
  {
   "cell_type": "markdown",
   "metadata": {},
   "source": [
    "I predict that health inspection scores are weakly correlated to median income in a given restaurant’s zip code. I believe this to be true because a business’s incentive to perform well is the rational self-interest of its owners and operators, in order to protect and improve their livelihoods. Customers are invested in the safety and quality of their food, regardless of socioeconomic status, which directly impacts business performance of restaurants, regarding health practices."
   ]
  },
  {
   "cell_type": "markdown",
   "metadata": {},
   "source": [
    "# Data"
   ]
  },
  {
   "cell_type": "markdown",
   "metadata": {},
   "source": [
    "Given the specificity of my hypothesis, a large and geographically diverse dataset comprising health inspection scores and information on median income by zip code will be ideal. These may be obtained from city databases or other publicly available resources."
   ]
  },
  {
   "cell_type": "markdown",
   "metadata": {},
   "source": [
    "# Ethics & Privacy"
   ]
  },
  {
   "cell_type": "markdown",
   "metadata": {},
   "source": [
    "Privacy concerns with this project are minimal since key data is drawn from public statistics and inspection results. However, as noted in background work, there are ethical considerations surrounding data correlations involving socioeconomic status and culturally attributable data, particularly when that data is taken as extrapolatable."
   ]
  }
 ],
 "metadata": {
  "kernelspec": {
   "display_name": "Python 3",
   "language": "python",
   "name": "python3"
  },
  "language_info": {
   "codemirror_mode": {
    "name": "ipython",
    "version": 3
   },
   "file_extension": ".py",
   "mimetype": "text/x-python",
   "name": "python",
   "nbconvert_exporter": "python",
   "pygments_lexer": "ipython3",
   "version": "3.7.0"
  }
 },
 "nbformat": 4,
 "nbformat_minor": 2
}
